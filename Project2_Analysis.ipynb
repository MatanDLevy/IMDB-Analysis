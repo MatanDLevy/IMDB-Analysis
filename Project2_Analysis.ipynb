{
 "cells": [
  {
   "cell_type": "markdown",
   "id": "fb6aba3a",
   "metadata": {},
   "source": [
    "# Part I"
   ]
  },
  {
   "cell_type": "code",
   "execution_count": 1,
   "id": "0ebc6096",
   "metadata": {},
   "outputs": [
    {
     "data": {
      "text/html": [
       "Current session configs: <tt>{'conf': {'spark.pyspark.python': 'python3', 'spark.pyspark.virtualenv.enabled': 'true', 'spark.pyspark.virtualenv.type': 'native', 'spark.pyspark.virtualenv.bin.path': '/usr/bin/virtualenv'}, 'kind': 'pyspark'}</tt><br>"
      ],
      "text/plain": [
       "<IPython.core.display.HTML object>"
      ]
     },
     "metadata": {},
     "output_type": "display_data"
    },
    {
     "data": {
      "text/html": [
       "No active sessions."
      ],
      "text/plain": [
       "<IPython.core.display.HTML object>"
      ]
     },
     "metadata": {},
     "output_type": "display_data"
    }
   ],
   "source": [
    "%%info"
   ]
  },
  {
   "cell_type": "code",
   "execution_count": 2,
   "id": "d641195e",
   "metadata": {},
   "outputs": [
    {
     "data": {
      "application/vnd.jupyter.widget-view+json": {
       "model_id": "798a33d004384d428657df1cc04b58d1",
       "version_major": 2,
       "version_minor": 0
      },
      "text/plain": [
       "VBox()"
      ]
     },
     "metadata": {},
     "output_type": "display_data"
    },
    {
     "name": "stdout",
     "output_type": "stream",
     "text": [
      "Starting Spark application\n"
     ]
    },
    {
     "data": {
      "text/html": [
       "<table>\n",
       "<tr><th>ID</th><th>YARN Application ID</th><th>Kind</th><th>State</th><th>Spark UI</th><th>Driver log</th><th>Current session?</th></tr><tr><td>1</td><td>application_1682871444365_0002</td><td>pyspark</td><td>idle</td><td><a target=\"_blank\" href=\"http://ip-172-31-45-13.us-east-2.compute.internal:20888/proxy/application_1682871444365_0002/\">Link</a></td><td><a target=\"_blank\" href=\"http://ip-172-31-43-155.us-east-2.compute.internal:8042/node/containerlogs/container_1682871444365_0002_01_000001/livy\">Link</a></td><td>✔</td></tr></table>"
      ],
      "text/plain": [
       "<IPython.core.display.HTML object>"
      ]
     },
     "metadata": {},
     "output_type": "display_data"
    },
    {
     "data": {
      "application/vnd.jupyter.widget-view+json": {
       "model_id": "",
       "version_major": 2,
       "version_minor": 0
      },
      "text/plain": [
       "FloatProgress(value=0.0, bar_style='info', description='Progress:', layout=Layout(height='25px', width='50%'),…"
      ]
     },
     "metadata": {},
     "output_type": "display_data"
    },
    {
     "name": "stdout",
     "output_type": "stream",
     "text": [
      "SparkSession available as 'spark'.\n"
     ]
    },
    {
     "data": {
      "application/vnd.jupyter.widget-view+json": {
       "model_id": "",
       "version_major": 2,
       "version_minor": 0
      },
      "text/plain": [
       "FloatProgress(value=0.0, bar_style='info', description='Progress:', layout=Layout(height='25px', width='50%'),…"
      ]
     },
     "metadata": {},
     "output_type": "display_data"
    },
    {
     "name": "stdout",
     "output_type": "stream",
     "text": [
      "Collecting pandas==1.0.3\n",
      "  Using cached https://files.pythonhosted.org/packages/4a/6a/94b219b8ea0f2d580169e85ed1edc0163743f55aaeca8a44c2e8fc1e344e/pandas-1.0.3-cp37-cp37m-manylinux1_x86_64.whl\n",
      "Requirement already satisfied: numpy>=1.13.3 in /usr/local/lib64/python3.7/site-packages (from pandas==1.0.3)\n",
      "Collecting python-dateutil>=2.6.1 (from pandas==1.0.3)\n",
      "  Using cached https://files.pythonhosted.org/packages/36/7a/87837f39d0296e723bb9b62bbb257d0355c7f6128853c78955f57342a56d/python_dateutil-2.8.2-py2.py3-none-any.whl\n",
      "Requirement already satisfied: pytz>=2017.2 in /usr/local/lib/python3.7/site-packages (from pandas==1.0.3)\n",
      "Requirement already satisfied: six>=1.5 in /usr/local/lib/python3.7/site-packages (from python-dateutil>=2.6.1->pandas==1.0.3)\n",
      "Installing collected packages: python-dateutil, pandas\n",
      "Successfully installed pandas-1.0.3 python-dateutil-2.8.2\n",
      "\n",
      "Collecting matplotlib==3.2.1\n",
      "  Using cached https://files.pythonhosted.org/packages/b2/c2/71fcf957710f3ba1f09088b35776a799ba7dd95f7c2b195ec800933b276b/matplotlib-3.2.1-cp37-cp37m-manylinux1_x86_64.whl\n",
      "Collecting pyparsing!=2.0.4,!=2.1.2,!=2.1.6,>=2.0.1 (from matplotlib==3.2.1)\n",
      "  Using cached https://files.pythonhosted.org/packages/6c/10/a7d0fa5baea8fe7b50f448ab742f26f52b80bfca85ac2be9d35cdd9a3246/pyparsing-3.0.9-py3-none-any.whl\n",
      "Requirement already satisfied: python-dateutil>=2.1 in /mnt/tmp/1682871987303-0/lib/python3.7/site-packages (from matplotlib==3.2.1)\n",
      "Requirement already satisfied: numpy>=1.11 in /usr/local/lib64/python3.7/site-packages (from matplotlib==3.2.1)\n",
      "Collecting cycler>=0.10 (from matplotlib==3.2.1)\n",
      "  Using cached https://files.pythonhosted.org/packages/5c/f9/695d6bedebd747e5eb0fe8fad57b72fdf25411273a39791cde838d5a8f51/cycler-0.11.0-py3-none-any.whl\n",
      "Collecting kiwisolver>=1.0.1 (from matplotlib==3.2.1)\n",
      "  Using cached https://files.pythonhosted.org/packages/ab/8f/8dbe2d4efc4c0b08ec67d6efb7cc31fbfd688c80afad85f65980633b0d37/kiwisolver-1.4.4-cp37-cp37m-manylinux_2_5_x86_64.manylinux1_x86_64.whl\n",
      "Requirement already satisfied: six>=1.5 in /usr/local/lib/python3.7/site-packages (from python-dateutil>=2.1->matplotlib==3.2.1)\n",
      "Collecting typing-extensions; python_version < \"3.8\" (from kiwisolver>=1.0.1->matplotlib==3.2.1)\n",
      "  Using cached https://files.pythonhosted.org/packages/31/25/5abcd82372d3d4a3932e1fa8c3dbf9efac10cc7c0d16e78467460571b404/typing_extensions-4.5.0-py3-none-any.whl\n",
      "Installing collected packages: pyparsing, cycler, typing-extensions, kiwisolver, matplotlib\n",
      "Successfully installed cycler-0.11.0 kiwisolver-1.4.4 matplotlib-3.2.1 pyparsing-3.0.9 typing-extensions-4.5.0"
     ]
    }
   ],
   "source": [
    "sc.install_pypi_package(\"pandas==1.0.3\")\n",
    "sc.install_pypi_package(\"matplotlib==3.2.1\")"
   ]
  },
  {
   "cell_type": "code",
   "execution_count": 3,
   "id": "7937a774",
   "metadata": {},
   "outputs": [
    {
     "data": {
      "application/vnd.jupyter.widget-view+json": {
       "model_id": "dbe082c94da543fdbd224508909ea01e",
       "version_major": 2,
       "version_minor": 0
      },
      "text/plain": [
       "VBox()"
      ]
     },
     "metadata": {},
     "output_type": "display_data"
    },
    {
     "data": {
      "application/vnd.jupyter.widget-view+json": {
       "model_id": "",
       "version_major": 2,
       "version_minor": 0
      },
      "text/plain": [
       "FloatProgress(value=0.0, bar_style='info', description='Progress:', layout=Layout(height='25px', width='50%'),…"
      ]
     },
     "metadata": {},
     "output_type": "display_data"
    }
   ],
   "source": [
    "#Load all necessary libraries\n",
    "import pandas as pd\n",
    "import numpy as np\n",
    "import matplotlib.pyplot as plt\n",
    "from pyspark.sql.functions import split, col, explode, count, desc, mean\n",
    "from pyspark.sql.types import DoubleType, IntegerType, FloatType"
   ]
  },
  {
   "cell_type": "markdown",
   "id": "bac34354",
   "metadata": {},
   "source": [
    "# Loading Data"
   ]
  },
  {
   "cell_type": "code",
   "execution_count": 4,
   "id": "7852142c",
   "metadata": {},
   "outputs": [
    {
     "data": {
      "application/vnd.jupyter.widget-view+json": {
       "model_id": "50e4d957cb7e4c2ca838056f336f6648",
       "version_major": 2,
       "version_minor": 0
      },
      "text/plain": [
       "VBox()"
      ]
     },
     "metadata": {},
     "output_type": "display_data"
    },
    {
     "data": {
      "application/vnd.jupyter.widget-view+json": {
       "model_id": "",
       "version_major": 2,
       "version_minor": 0
      },
      "text/plain": [
       "FloatProgress(value=0.0, bar_style='info', description='Progress:', layout=Layout(height='25px', width='50%'),…"
      ]
     },
     "metadata": {},
     "output_type": "display_data"
    }
   ],
   "source": [
    "#load all necessary data from s3\n",
    "actors = spark.read.csv('s3://cis9760-lecture9-movieanalysis/name.basics.tsv', sep=r'\\t', header=True)\n",
    "genres = spark.read.csv('s3://cis9760-lecture9-movieanalysis/title.basics.tsv', sep=r'\\t', header=True)\n",
    "movie_actors = spark.read.csv('s3://cis9760-lecture9-movieanalysis/title.principals.tsv', sep=r'\\t', header=True)\n",
    "movie_ratings = spark.read.csv('s3://cis9760-lecture9-movieanalysis/title.ratings.tsv', sep=r'\\t', header=True)"
   ]
  },
  {
   "cell_type": "markdown",
   "id": "b70949db",
   "metadata": {},
   "source": [
    "# Actors"
   ]
  },
  {
   "cell_type": "code",
   "execution_count": 5,
   "id": "121639e7",
   "metadata": {},
   "outputs": [
    {
     "data": {
      "application/vnd.jupyter.widget-view+json": {
       "model_id": "8fb7ec4225044cf0bb80dee204f77872",
       "version_major": 2,
       "version_minor": 0
      },
      "text/plain": [
       "VBox()"
      ]
     },
     "metadata": {},
     "output_type": "display_data"
    },
    {
     "data": {
      "application/vnd.jupyter.widget-view+json": {
       "model_id": "",
       "version_major": 2,
       "version_minor": 0
      },
      "text/plain": [
       "FloatProgress(value=0.0, bar_style='info', description='Progress:', layout=Layout(height='25px', width='50%'),…"
      ]
     },
     "metadata": {},
     "output_type": "display_data"
    },
    {
     "name": "stdout",
     "output_type": "stream",
     "text": [
      "root\n",
      " |-- nconst: string (nullable = true)\n",
      " |-- primaryName: string (nullable = true)\n",
      " |-- birthYear: string (nullable = true)\n",
      " |-- deathYear: string (nullable = true)\n",
      " |-- primaryProfession: string (nullable = true)\n",
      " |-- knownForTitles: string (nullable = true)"
     ]
    }
   ],
   "source": [
    "#Show actors schema\n",
    "actors.printSchema()"
   ]
  },
  {
   "cell_type": "code",
   "execution_count": 6,
   "id": "a7b2eb6b",
   "metadata": {},
   "outputs": [
    {
     "data": {
      "application/vnd.jupyter.widget-view+json": {
       "model_id": "e7ccd6a2ce304a1199097e7d276eb3d1",
       "version_major": 2,
       "version_minor": 0
      },
      "text/plain": [
       "VBox()"
      ]
     },
     "metadata": {},
     "output_type": "display_data"
    },
    {
     "data": {
      "application/vnd.jupyter.widget-view+json": {
       "model_id": "",
       "version_major": 2,
       "version_minor": 0
      },
      "text/plain": [
       "FloatProgress(value=0.0, bar_style='info', description='Progress:', layout=Layout(height='25px', width='50%'),…"
      ]
     },
     "metadata": {},
     "output_type": "display_data"
    },
    {
     "name": "stdout",
     "output_type": "stream",
     "text": [
      "+---------------+---------+---------+--------------------+\n",
      "|    primaryName|birthYear|deathYear|      knownForTitles|\n",
      "+---------------+---------+---------+--------------------+\n",
      "|   Fred Astaire|     1899|     1987|tt0050419,tt00531...|\n",
      "|  Lauren Bacall|     1924|     2014|tt0071877,tt01170...|\n",
      "|Brigitte Bardot|     1934|       \\N|tt0054452,tt00491...|\n",
      "|   John Belushi|     1949|     1982|tt0077975,tt00725...|\n",
      "| Ingmar Bergman|     1918|     2007|tt0069467,tt00509...|\n",
      "+---------------+---------+---------+--------------------+\n",
      "only showing top 5 rows"
     ]
    }
   ],
   "source": [
    "#Display the first 5 rows\n",
    "actors.select(\"primaryName\", \"birthYear\", \"deathYear\",\"knownForTitles\").show(5)"
   ]
  },
  {
   "cell_type": "markdown",
   "id": "59e488c8",
   "metadata": {},
   "source": [
    "# Genres"
   ]
  },
  {
   "cell_type": "code",
   "execution_count": 7,
   "id": "0e9b94d9",
   "metadata": {},
   "outputs": [
    {
     "data": {
      "application/vnd.jupyter.widget-view+json": {
       "model_id": "a94c57c80b194f65a93862192acdd837",
       "version_major": 2,
       "version_minor": 0
      },
      "text/plain": [
       "VBox()"
      ]
     },
     "metadata": {},
     "output_type": "display_data"
    },
    {
     "data": {
      "application/vnd.jupyter.widget-view+json": {
       "model_id": "",
       "version_major": 2,
       "version_minor": 0
      },
      "text/plain": [
       "FloatProgress(value=0.0, bar_style='info', description='Progress:', layout=Layout(height='25px', width='50%'),…"
      ]
     },
     "metadata": {},
     "output_type": "display_data"
    },
    {
     "name": "stdout",
     "output_type": "stream",
     "text": [
      "+---------+--------------------+--------------------+\n",
      "|titleType|        primaryTitle|              genres|\n",
      "+---------+--------------------+--------------------+\n",
      "|    short|          Carmencita|   Documentary,Short|\n",
      "|    short|Le clown et ses c...|     Animation,Short|\n",
      "|    short|      Pauvre Pierrot|Animation,Comedy,...|\n",
      "|    short|         Un bon bock|     Animation,Short|\n",
      "|    short|    Blacksmith Scene|        Comedy,Short|\n",
      "|    short|   Chinese Opium Den|               Short|\n",
      "|    short|Corbett and Court...|         Short,Sport|\n",
      "|    short|Edison Kinetoscop...|   Documentary,Short|\n",
      "|    movie|          Miss Jerry|             Romance|\n",
      "|    short| Exiting the Factory|   Documentary,Short|\n",
      "|    short|Akrobatisches Pot...|   Documentary,Short|\n",
      "|    short|The Arrival of a ...|Action,Documentar...|\n",
      "|    short|The Photographica...|   Documentary,Short|\n",
      "|    short|The Sprinkler Spr...|        Comedy,Short|\n",
      "|    short| Autour d'une cabine|     Animation,Short|\n",
      "+---------+--------------------+--------------------+\n",
      "only showing top 15 rows"
     ]
    }
   ],
   "source": [
    "#Display the first 15 rows with the following columns\n",
    "genres.select(\"titleType\",\"primaryTitle\",\"genres\").show(15)"
   ]
  },
  {
   "cell_type": "code",
   "execution_count": 8,
   "id": "06343622",
   "metadata": {},
   "outputs": [
    {
     "data": {
      "application/vnd.jupyter.widget-view+json": {
       "model_id": "16d9859828f64caba2b6282f9272f6ef",
       "version_major": 2,
       "version_minor": 0
      },
      "text/plain": [
       "VBox()"
      ]
     },
     "metadata": {},
     "output_type": "display_data"
    },
    {
     "data": {
      "application/vnd.jupyter.widget-view+json": {
       "model_id": "",
       "version_major": 2,
       "version_minor": 0
      },
      "text/plain": [
       "FloatProgress(value=0.0, bar_style='info', description='Progress:', layout=Layout(height='25px', width='50%'),…"
      ]
     },
     "metadata": {},
     "output_type": "display_data"
    },
    {
     "name": "stdout",
     "output_type": "stream",
     "text": [
      "+------------+\n",
      "|   titleType|\n",
      "+------------+\n",
      "|    tvSeries|\n",
      "|tvMiniSeries|\n",
      "|       movie|\n",
      "|   videoGame|\n",
      "|   tvSpecial|\n",
      "|       video|\n",
      "|     tvMovie|\n",
      "|   tvEpisode|\n",
      "|     tvShort|\n",
      "|       short|\n",
      "+------------+"
     ]
    }
   ],
   "source": [
    "#Display the unique titles \n",
    "(genres.select(\"titleType\").distinct()).show()"
   ]
  },
  {
   "cell_type": "code",
   "execution_count": 9,
   "id": "f30e5ec4",
   "metadata": {},
   "outputs": [
    {
     "data": {
      "application/vnd.jupyter.widget-view+json": {
       "model_id": "9543995631e9425fb48a33c16df35d09",
       "version_major": 2,
       "version_minor": 0
      },
      "text/plain": [
       "VBox()"
      ]
     },
     "metadata": {},
     "output_type": "display_data"
    },
    {
     "data": {
      "application/vnd.jupyter.widget-view+json": {
       "model_id": "",
       "version_major": 2,
       "version_minor": 0
      },
      "text/plain": [
       "FloatProgress(value=0.0, bar_style='info', description='Progress:', layout=Layout(height='25px', width='50%'),…"
      ]
     },
     "metadata": {},
     "output_type": "display_data"
    },
    {
     "name": "stdout",
     "output_type": "stream",
     "text": [
      "root\n",
      " |-- tconst: string (nullable = true)\n",
      " |-- titleType: string (nullable = true)\n",
      " |-- primaryTitle: string (nullable = true)\n",
      " |-- originalTitle: string (nullable = true)\n",
      " |-- isAdult: string (nullable = true)\n",
      " |-- startYear: string (nullable = true)\n",
      " |-- endYear: string (nullable = true)\n",
      " |-- runtimeMinutes: string (nullable = true)\n",
      " |-- genres: string (nullable = true)"
     ]
    }
   ],
   "source": [
    "#Display the schema\n",
    "genres.printSchema()"
   ]
  },
  {
   "cell_type": "markdown",
   "id": "d83f3c28",
   "metadata": {},
   "source": [
    "# Movie Actors"
   ]
  },
  {
   "cell_type": "code",
   "execution_count": 10,
   "id": "6ff367ba",
   "metadata": {},
   "outputs": [
    {
     "data": {
      "application/vnd.jupyter.widget-view+json": {
       "model_id": "9c785e8bc2c84b0f9e36c9761f2a2f6e",
       "version_major": 2,
       "version_minor": 0
      },
      "text/plain": [
       "VBox()"
      ]
     },
     "metadata": {},
     "output_type": "display_data"
    },
    {
     "data": {
      "application/vnd.jupyter.widget-view+json": {
       "model_id": "",
       "version_major": 2,
       "version_minor": 0
      },
      "text/plain": [
       "FloatProgress(value=0.0, bar_style='info', description='Progress:', layout=Layout(height='25px', width='50%'),…"
      ]
     },
     "metadata": {},
     "output_type": "display_data"
    },
    {
     "name": "stdout",
     "output_type": "stream",
     "text": [
      "root\n",
      " |-- tconst: string (nullable = true)\n",
      " |-- ordering: string (nullable = true)\n",
      " |-- nconst: string (nullable = true)\n",
      " |-- category: string (nullable = true)\n",
      " |-- job: string (nullable = true)\n",
      " |-- characters: string (nullable = true)"
     ]
    }
   ],
   "source": [
    "#Display the schema\n",
    "movie_actors.printSchema()"
   ]
  },
  {
   "cell_type": "code",
   "execution_count": 11,
   "id": "a25efd5f",
   "metadata": {},
   "outputs": [
    {
     "data": {
      "application/vnd.jupyter.widget-view+json": {
       "model_id": "0109a102a5ee41d9a35cf546f81c2b26",
       "version_major": 2,
       "version_minor": 0
      },
      "text/plain": [
       "VBox()"
      ]
     },
     "metadata": {},
     "output_type": "display_data"
    },
    {
     "data": {
      "application/vnd.jupyter.widget-view+json": {
       "model_id": "",
       "version_major": 2,
       "version_minor": 0
      },
      "text/plain": [
       "FloatProgress(value=0.0, bar_style='info', description='Progress:', layout=Layout(height='25px', width='50%'),…"
      ]
     },
     "metadata": {},
     "output_type": "display_data"
    },
    {
     "name": "stdout",
     "output_type": "stream",
     "text": [
      "+---------+--------+---------+--------+---+--------------------+\n",
      "|   tconst|ordering|   nconst|category|job|          characters|\n",
      "+---------+--------+---------+--------+---+--------------------+\n",
      "|tt0000001|       1|nm1588970|    self| \\N|         [\"Herself\"]|\n",
      "|tt0000012|       1|nm2880396|    self| \\N|         [\"Herself\"]|\n",
      "|tt0000012|       2|nm9735580|    self| \\N|         [\"Himself\"]|\n",
      "|tt0000012|       3|nm0525900|    self| \\N|         [\"Herself\"]|\n",
      "|tt0000012|       4|nm9735581|    self| \\N|         [\"Herself\"]|\n",
      "|tt0000012|       7|nm9735579|    self| \\N|         [\"Herself\"]|\n",
      "|tt0000012|       8|nm9653419|    self| \\N|         [\"Herself\"]|\n",
      "|tt0000013|       1|nm0525908|    self| \\N|         [\"Himself\"]|\n",
      "|tt0000013|       2|nm1715062|    self| \\N|         [\"Himself\"]|\n",
      "|tt0000016|       1|nm0525900|    self| \\N|[\"Herself (on the...|\n",
      "|tt0000016|       2|nm9735581|    self| \\N|[\"Herself (on the...|\n",
      "|tt0000024|       1|nm0256651|    self| \\N|[\"Herself - Empre...|\n",
      "|tt0000024|       2|nm0435118|    self| \\N|[\"Himself - Emper...|\n",
      "|tt0000028|       1|nm2350838|    self| \\N|         [\"Himself\"]|\n",
      "|tt0000028|       2|nm0525908|    self| \\N|         [\"Himself\"]|\n",
      "+---------+--------+---------+--------+---+--------------------+\n",
      "only showing top 15 rows"
     ]
    }
   ],
   "source": [
    "#Display the first 15 rows where the \"category\" column is \"self\"\n",
    "(movie_actors.filter(movie_actors.category == \"self\")).show(15)"
   ]
  },
  {
   "cell_type": "markdown",
   "id": "202599e2",
   "metadata": {},
   "source": [
    "# Movie Ratings"
   ]
  },
  {
   "cell_type": "code",
   "execution_count": 12,
   "id": "ed057946",
   "metadata": {
    "scrolled": false
   },
   "outputs": [
    {
     "data": {
      "application/vnd.jupyter.widget-view+json": {
       "model_id": "1de258b2f5c34c9b97313bf0cbbd3470",
       "version_major": 2,
       "version_minor": 0
      },
      "text/plain": [
       "VBox()"
      ]
     },
     "metadata": {},
     "output_type": "display_data"
    },
    {
     "data": {
      "application/vnd.jupyter.widget-view+json": {
       "model_id": "",
       "version_major": 2,
       "version_minor": 0
      },
      "text/plain": [
       "FloatProgress(value=0.0, bar_style='info', description='Progress:', layout=Layout(height='25px', width='50%'),…"
      ]
     },
     "metadata": {},
     "output_type": "display_data"
    },
    {
     "name": "stdout",
     "output_type": "stream",
     "text": [
      "root\n",
      " |-- tconst: string (nullable = true)\n",
      " |-- averageRating: string (nullable = true)\n",
      " |-- numVotes: string (nullable = true)"
     ]
    }
   ],
   "source": [
    "#Display the schema\n",
    "movie_ratings.printSchema()"
   ]
  },
  {
   "cell_type": "code",
   "execution_count": 13,
   "id": "86fc6d44",
   "metadata": {
    "scrolled": true
   },
   "outputs": [
    {
     "data": {
      "application/vnd.jupyter.widget-view+json": {
       "model_id": "63ec4bf547ab4836ae2063740e8ab79f",
       "version_major": 2,
       "version_minor": 0
      },
      "text/plain": [
       "VBox()"
      ]
     },
     "metadata": {},
     "output_type": "display_data"
    },
    {
     "data": {
      "application/vnd.jupyter.widget-view+json": {
       "model_id": "",
       "version_major": 2,
       "version_minor": 0
      },
      "text/plain": [
       "FloatProgress(value=0.0, bar_style='info', description='Progress:', layout=Layout(height='25px', width='50%'),…"
      ]
     },
     "metadata": {},
     "output_type": "display_data"
    },
    {
     "name": "stdout",
     "output_type": "stream",
     "text": [
      "+---------+-------------+---------+\n",
      "|   tconst|averageRating| Numvotes|\n",
      "+---------+-------------+---------+\n",
      "|tt0111161|          9.3|2159745.0|\n",
      "|tt0468569|          9.0|2134602.0|\n",
      "|tt1375666|          8.8|1892958.0|\n",
      "|tt0137523|          8.8|1725444.0|\n",
      "|tt0110912|          8.9|1695159.0|\n",
      "|tt0109830|          8.8|1662609.0|\n",
      "|tt0944947|          9.4|1606096.0|\n",
      "|tt0133093|          8.7|1554345.0|\n",
      "|tt0120737|          8.8|1548920.0|\n",
      "|tt0167260|          8.9|1533632.0|\n",
      "|tt0068646|          9.2|1482225.0|\n",
      "|tt1345836|          8.4|1421506.0|\n",
      "|tt0167261|          8.7|1387208.0|\n",
      "|tt0816692|          8.6|1348184.0|\n",
      "|tt0114369|          8.6|1327441.0|\n",
      "+---------+-------------+---------+\n",
      "only showing top 15 rows"
     ]
    }
   ],
   "source": [
    "#Display the first 10 rows in a descending order by the number of votes\n",
    "movie_ratings = movie_ratings.withColumn(\"Numvotes\", movie_ratings[\"Numvotes\"].cast(DoubleType()))\n",
    "movie_ratings.orderBy(desc(\"Numvotes\")).show(15)"
   ]
  },
  {
   "cell_type": "markdown",
   "id": "8552c911",
   "metadata": {},
   "source": [
    "# Overview of Data"
   ]
  },
  {
   "cell_type": "code",
   "execution_count": 14,
   "id": "fe5c54f6",
   "metadata": {},
   "outputs": [
    {
     "data": {
      "application/vnd.jupyter.widget-view+json": {
       "model_id": "284a71bcec374b919dae020a117fe87a",
       "version_major": 2,
       "version_minor": 0
      },
      "text/plain": [
       "VBox()"
      ]
     },
     "metadata": {},
     "output_type": "display_data"
    },
    {
     "data": {
      "application/vnd.jupyter.widget-view+json": {
       "model_id": "",
       "version_major": 2,
       "version_minor": 0
      },
      "text/plain": [
       "FloatProgress(value=0.0, bar_style='info', description='Progress:', layout=Layout(height='25px', width='50%'),…"
      ]
     },
     "metadata": {},
     "output_type": "display_data"
    },
    {
     "name": "stdout",
     "output_type": "stream",
     "text": [
      "Number of columns in Actors table: 6\n",
      "Number of rows in Actors table: 9706922\n",
      "\n",
      "Number of columns in Genres table: 9\n",
      "Number of rows in Genres table: 6321302\n",
      "\n",
      "Number of columns in Movie Actors table: 6\n",
      "Number of rows in Movie Actors table: 36468817\n",
      "\n",
      "Number of columns in Movie Ratings table: 3\n",
      "Number of rows in Movie Ratings table: 993153"
     ]
    }
   ],
   "source": [
    "#Display the number of rows and columns in each dataFrame object.\n",
    "num_cols_actors = len(actors.columns)\n",
    "num_rows_actors = actors.count()\n",
    "print(f\"Number of columns in Actors table: {num_cols_actors}\")\n",
    "print(f\"Number of rows in Actors table: {num_rows_actors}\")\n",
    "print()\n",
    "num_cols_genres = len(genres.columns)\n",
    "num_rows_genres = genres.count()\n",
    "print(f\"Number of columns in Genres table: {num_cols_genres}\")\n",
    "print(f\"Number of rows in Genres table: {num_rows_genres}\")\n",
    "print()\n",
    "num_cols_movie_actors = len(movie_actors.columns)\n",
    "num_rows_movie_actors = movie_actors.count()\n",
    "print(f\"Number of columns in Movie Actors table: {num_cols_movie_actors}\")\n",
    "print(f\"Number of rows in Movie Actors table: {num_rows_movie_actors}\")\n",
    "print()\n",
    "num_cols_movie_ratings = len(movie_ratings.columns)\n",
    "num_rows_movie_ratings = movie_ratings.count()\n",
    "print(f\"Number of columns in Movie Ratings table: {num_cols_movie_ratings}\")\n",
    "print(f\"Number of rows in Movie Ratings table: {num_rows_movie_ratings}\")"
   ]
  },
  {
   "cell_type": "markdown",
   "id": "947b32bf",
   "metadata": {},
   "source": [
    "# PART 2 - Analyzing Genres"
   ]
  },
  {
   "cell_type": "code",
   "execution_count": 15,
   "id": "5305910b",
   "metadata": {},
   "outputs": [
    {
     "data": {
      "application/vnd.jupyter.widget-view+json": {
       "model_id": "1e3b618698e44848a411c63a4a461e30",
       "version_major": 2,
       "version_minor": 0
      },
      "text/plain": [
       "VBox()"
      ]
     },
     "metadata": {},
     "output_type": "display_data"
    },
    {
     "data": {
      "application/vnd.jupyter.widget-view+json": {
       "model_id": "",
       "version_major": 2,
       "version_minor": 0
      },
      "text/plain": [
       "FloatProgress(value=0.0, bar_style='info', description='Progress:', layout=Layout(height='25px', width='50%'),…"
      ]
     },
     "metadata": {},
     "output_type": "display_data"
    },
    {
     "name": "stdout",
     "output_type": "stream",
     "text": [
      "+---------+---------+--------------------+\n",
      "|   tconst|titleType|              genres|\n",
      "+---------+---------+--------------------+\n",
      "|tt0000001|    short|   Documentary,Short|\n",
      "|tt0000002|    short|     Animation,Short|\n",
      "|tt0000003|    short|Animation,Comedy,...|\n",
      "|tt0000004|    short|     Animation,Short|\n",
      "|tt0000005|    short|        Comedy,Short|\n",
      "+---------+---------+--------------------+\n",
      "only showing top 5 rows"
     ]
    }
   ],
   "source": [
    "#Select colums\n",
    "genres1 = genres.select(\"tconst\",\"titleType\",\"genres\")\n",
    "genres1.show(5)"
   ]
  },
  {
   "cell_type": "code",
   "execution_count": 16,
   "id": "4ea5757a",
   "metadata": {},
   "outputs": [
    {
     "data": {
      "application/vnd.jupyter.widget-view+json": {
       "model_id": "883f28e76c3a46cdbafb3ab125f0ae4a",
       "version_major": 2,
       "version_minor": 0
      },
      "text/plain": [
       "VBox()"
      ]
     },
     "metadata": {},
     "output_type": "display_data"
    },
    {
     "data": {
      "application/vnd.jupyter.widget-view+json": {
       "model_id": "",
       "version_major": 2,
       "version_minor": 0
      },
      "text/plain": [
       "FloatProgress(value=0.0, bar_style='info', description='Progress:', layout=Layout(height='25px', width='50%'),…"
      ]
     },
     "metadata": {},
     "output_type": "display_data"
    },
    {
     "name": "stdout",
     "output_type": "stream",
     "text": [
      "+---------+---------+-----------+\n",
      "|   tconst|titleType|     genres|\n",
      "+---------+---------+-----------+\n",
      "|tt0000001|    short|Documentary|\n",
      "|tt0000001|    short|      Short|\n",
      "|tt0000002|    short|  Animation|\n",
      "|tt0000002|    short|      Short|\n",
      "|tt0000003|    short|  Animation|\n",
      "|tt0000003|    short|     Comedy|\n",
      "|tt0000003|    short|    Romance|\n",
      "|tt0000004|    short|  Animation|\n",
      "|tt0000004|    short|      Short|\n",
      "|tt0000005|    short|     Comedy|\n",
      "+---------+---------+-----------+\n",
      "only showing top 10 rows"
     ]
    }
   ],
   "source": [
    "#explode genres\n",
    "seperated_genres = genres.select(\"tconst\", \"titleType\", explode(split(\"genres\", \",\"))).withColumnRenamed(\"col\", \"genres\")\n",
    "seperated_genres.show(10)"
   ]
  },
  {
   "cell_type": "markdown",
   "id": "bd94e09e",
   "metadata": {},
   "source": [
    "# Unique Genre"
   ]
  },
  {
   "cell_type": "code",
   "execution_count": 17,
   "id": "1a4ccd8a",
   "metadata": {},
   "outputs": [
    {
     "data": {
      "application/vnd.jupyter.widget-view+json": {
       "model_id": "bcb38de40b6e4c1bbd4e6606ef0684b9",
       "version_major": 2,
       "version_minor": 0
      },
      "text/plain": [
       "VBox()"
      ]
     },
     "metadata": {},
     "output_type": "display_data"
    },
    {
     "data": {
      "application/vnd.jupyter.widget-view+json": {
       "model_id": "",
       "version_major": 2,
       "version_minor": 0
      },
      "text/plain": [
       "FloatProgress(value=0.0, bar_style='info', description='Progress:', layout=Layout(height='25px', width='50%'),…"
      ]
     },
     "metadata": {},
     "output_type": "display_data"
    },
    {
     "name": "stdout",
     "output_type": "stream",
     "text": [
      "29"
     ]
    }
   ],
   "source": [
    "#finding amount of unique genres\n",
    "unique_genres = seperated_genres.select(\"genres\").distinct()\n",
    "unique_genres_count = seperated_genres.select(\"genres\").distinct().count()\n",
    "print(unique_genres_count)"
   ]
  },
  {
   "cell_type": "code",
   "execution_count": 18,
   "id": "65bb2488",
   "metadata": {},
   "outputs": [
    {
     "data": {
      "application/vnd.jupyter.widget-view+json": {
       "model_id": "6b9b9a4e50d24d73983fce6114109cf2",
       "version_major": 2,
       "version_minor": 0
      },
      "text/plain": [
       "VBox()"
      ]
     },
     "metadata": {},
     "output_type": "display_data"
    },
    {
     "data": {
      "application/vnd.jupyter.widget-view+json": {
       "model_id": "",
       "version_major": 2,
       "version_minor": 0
      },
      "text/plain": [
       "FloatProgress(value=0.0, bar_style='info', description='Progress:', layout=Layout(height='25px', width='50%'),…"
      ]
     },
     "metadata": {},
     "output_type": "display_data"
    },
    {
     "name": "stdout",
     "output_type": "stream",
     "text": [
      "+-----------+\n",
      "|     genres|\n",
      "+-----------+\n",
      "|    Mystery|\n",
      "|    Musical|\n",
      "|      Sport|\n",
      "|     Action|\n",
      "|  Talk-Show|\n",
      "|    Romance|\n",
      "|   Thriller|\n",
      "|         \\N|\n",
      "| Reality-TV|\n",
      "|     Family|\n",
      "|    Fantasy|\n",
      "|    History|\n",
      "|  Animation|\n",
      "|      Short|\n",
      "|  Film-Noir|\n",
      "|     Sci-Fi|\n",
      "|       News|\n",
      "|      Drama|\n",
      "|Documentary|\n",
      "|    Western|\n",
      "|     Comedy|\n",
      "|      Crime|\n",
      "|        War|\n",
      "|  Game-Show|\n",
      "|      Adult|\n",
      "|      Music|\n",
      "|  Biography|\n",
      "|  Adventure|\n",
      "|     Horror|\n",
      "+-----------+"
     ]
    }
   ],
   "source": [
    "#listing unique genres\n",
    "seperated_genres.select(\"genres\").distinct().show(unique_genres_count)"
   ]
  },
  {
   "cell_type": "code",
   "execution_count": 19,
   "id": "5ad0fd33",
   "metadata": {},
   "outputs": [
    {
     "data": {
      "application/vnd.jupyter.widget-view+json": {
       "model_id": "1b160dd49e2b42b6800ce3d8b84d1d88",
       "version_major": 2,
       "version_minor": 0
      },
      "text/plain": [
       "VBox()"
      ]
     },
     "metadata": {},
     "output_type": "display_data"
    },
    {
     "data": {
      "application/vnd.jupyter.widget-view+json": {
       "model_id": "",
       "version_major": 2,
       "version_minor": 0
      },
      "text/plain": [
       "FloatProgress(value=0.0, bar_style='info', description='Progress:', layout=Layout(height='25px', width='50%'),…"
      ]
     },
     "metadata": {},
     "output_type": "display_data"
    },
    {
     "name": "stdout",
     "output_type": "stream",
     "text": [
      "+-----------+\n",
      "|     genres|\n",
      "+-----------+\n",
      "|    Mystery|\n",
      "|    Musical|\n",
      "|      Sport|\n",
      "|     Action|\n",
      "|  Talk-Show|\n",
      "|    Romance|\n",
      "|   Thriller|\n",
      "| Reality-TV|\n",
      "|     Family|\n",
      "|    Fantasy|\n",
      "|    History|\n",
      "|  Animation|\n",
      "|      Short|\n",
      "|  Film-Noir|\n",
      "|     Sci-Fi|\n",
      "|       News|\n",
      "|      Drama|\n",
      "|Documentary|\n",
      "|    Western|\n",
      "|     Comedy|\n",
      "|      Crime|\n",
      "|        War|\n",
      "|  Game-Show|\n",
      "|      Adult|\n",
      "|      Music|\n",
      "|  Biography|\n",
      "|  Adventure|\n",
      "|     Horror|\n",
      "+-----------+"
     ]
    }
   ],
   "source": [
    "#Removing Null\n",
    "\n",
    "nll = '\\\\N'\n",
    "seperated_genres_filtered = seperated_genres.select(\"genres\") \\\n",
    "    .filter(col(\"genres\") != nll)\n",
    "seperated_genres_filtered_count = seperated_genres_filtered.distinct().count()\n",
    "seperated_genres_filtered.distinct().show(seperated_genres_filtered_count)\n"
   ]
  },
  {
   "cell_type": "markdown",
   "id": "4f828c1a",
   "metadata": {},
   "source": [
    "# Top Genres by Movies"
   ]
  },
  {
   "cell_type": "code",
   "execution_count": 20,
   "id": "d3baf4a2",
   "metadata": {},
   "outputs": [
    {
     "data": {
      "application/vnd.jupyter.widget-view+json": {
       "model_id": "a2cff2383cc04c7caba64042dba9cc45",
       "version_major": 2,
       "version_minor": 0
      },
      "text/plain": [
       "VBox()"
      ]
     },
     "metadata": {},
     "output_type": "display_data"
    },
    {
     "data": {
      "application/vnd.jupyter.widget-view+json": {
       "model_id": "",
       "version_major": 2,
       "version_minor": 0
      },
      "text/plain": [
       "FloatProgress(value=0.0, bar_style='info', description='Progress:', layout=Layout(height='25px', width='50%'),…"
      ]
     },
     "metadata": {},
     "output_type": "display_data"
    },
    {
     "name": "stdout",
     "output_type": "stream",
     "text": [
      "+---------+-------------+\n",
      "|   genres|averageRating|\n",
      "+---------+-------------+\n",
      "|    Drama|          4.2|\n",
      "|    Drama|          4.2|\n",
      "|Biography|          4.1|\n",
      "|    Drama|          4.1|\n",
      "|  History|          4.1|\n",
      "|    Drama|          5.7|\n",
      "|    Drama|          4.6|\n",
      "|  History|          4.6|\n",
      "|Biography|          6.3|\n",
      "|    Drama|          6.3|\n",
      "+---------+-------------+\n",
      "only showing top 10 rows"
     ]
    }
   ],
   "source": [
    "#removing non-movies\n",
    "only_movies = genres.filter(genres.titleType == \"movie\")\n",
    "separated_movies = only_movies.select(\"tconst\", \"titleType\", explode(split(\"genres\", \",\"))).withColumnRenamed(\"col\", \"genres\")\n",
    "#droping the nulls\n",
    "separated_movies_filtered = separated_movies.filter(separated_movies.genres != r'\\N')\n",
    "#joining the data\n",
    "joined_data = movie_ratings.join(separated_movies_filtered, on=\"tconst\", how=\"inner\")\n",
    "genre_avg_ratings = joined_data.select(\"genres\", \"averageRating\")\n",
    "genre_avg_ratings.show(10)\n"
   ]
  },
  {
   "cell_type": "code",
   "execution_count": 21,
   "id": "498f82de",
   "metadata": {},
   "outputs": [
    {
     "data": {
      "application/vnd.jupyter.widget-view+json": {
       "model_id": "e9f3b24ec67547e8b468ff22e56b3a55",
       "version_major": 2,
       "version_minor": 0
      },
      "text/plain": [
       "VBox()"
      ]
     },
     "metadata": {},
     "output_type": "display_data"
    },
    {
     "data": {
      "application/vnd.jupyter.widget-view+json": {
       "model_id": "",
       "version_major": 2,
       "version_minor": 0
      },
      "text/plain": [
       "FloatProgress(value=0.0, bar_style='info', description='Progress:', layout=Layout(height='25px', width='50%'),…"
      ]
     },
     "metadata": {},
     "output_type": "display_data"
    },
    {
     "name": "stdout",
     "output_type": "stream",
     "text": [
      "+-----------+------------------+\n",
      "|     genres|        avg_rating|\n",
      "+-----------+------------------+\n",
      "|    Mystery|5.9404375359815775|\n",
      "|    Musical|6.2032460545193695|\n",
      "|     Action|  5.71873406966865|\n",
      "|      Sport| 6.600145190562614|\n",
      "|  Talk-Show|               5.8|\n",
      "|    Romance|6.1257141803973605|\n",
      "|   Thriller| 5.625967566447332|\n",
      "| Reality-TV| 6.379310344827585|\n",
      "|     Family| 6.250560452715202|\n",
      "|    Fantasy| 5.924820762833381|\n",
      "|    History| 6.822718115605145|\n",
      "|  Animation| 6.326203750633556|\n",
      "|  Film-Noir| 6.636246786632391|\n",
      "|      Short|              7.26|\n",
      "|     Sci-Fi| 5.325150008571917|\n",
      "|       News| 7.200916030534349|\n",
      "|      Drama| 6.288080210387902|\n",
      "|Documentary| 7.245469798657718|\n",
      "|    Western| 5.948970989337962|\n",
      "|     Comedy| 5.941363108004127|\n",
      "+-----------+------------------+\n",
      "only showing top 20 rows"
     ]
    }
   ],
   "source": [
    "#displays average rating per genre\n",
    "genre_avg_ratings_grouped = genre_avg_ratings.groupBy(\"genres\").agg(mean(\"averageRating\").alias(\"avg_rating\"))\n",
    "genre_avg_ratings_grouped.show(20)"
   ]
  },
  {
   "cell_type": "markdown",
   "id": "46ab0cf5",
   "metadata": {},
   "source": [
    "# Horizontal Bar Chart of Top Genres"
   ]
  },
  {
   "cell_type": "code",
   "execution_count": 22,
   "id": "9a42574d",
   "metadata": {},
   "outputs": [
    {
     "data": {
      "application/vnd.jupyter.widget-view+json": {
       "model_id": "ed136dba014443a1ab3f969c22f41eea",
       "version_major": 2,
       "version_minor": 0
      },
      "text/plain": [
       "VBox()"
      ]
     },
     "metadata": {},
     "output_type": "display_data"
    },
    {
     "data": {
      "application/vnd.jupyter.widget-view+json": {
       "model_id": "",
       "version_major": 2,
       "version_minor": 0
      },
      "text/plain": [
       "FloatProgress(value=0.0, bar_style='info', description='Progress:', layout=Layout(height='25px', width='50%'),…"
      ]
     },
     "metadata": {},
     "output_type": "display_data"
    },
    {
     "name": "stdout",
     "output_type": "stream",
     "text": [
      "+-----------+------------------+\n",
      "|     genres|        avg_rating|\n",
      "+-----------+------------------+\n",
      "|      Short|              7.26|\n",
      "|Documentary| 7.245469798657718|\n",
      "|       News|7.2009160305343505|\n",
      "|  Biography| 6.983637640449438|\n",
      "|  Game-Show|             6.975|\n",
      "|    History| 6.822718115605145|\n",
      "|      Music| 6.752020202020203|\n",
      "|  Film-Noir| 6.636246786632391|\n",
      "|      Sport| 6.600145190562614|\n",
      "|        War| 6.483807030665668|\n",
      "| Reality-TV| 6.379310344827586|\n",
      "|  Animation| 6.326203750633553|\n",
      "|      Drama| 6.288080210387902|\n",
      "|     Family| 6.250560452715204|\n",
      "|    Musical|6.2032460545193695|\n",
      "|    Romance| 6.125714180397362|\n",
      "|      Crime|  6.02601333268454|\n",
      "|    Western| 5.948970989337962|\n",
      "|     Comedy| 5.941363108004129|\n",
      "|    Mystery|5.9404375359815775|\n",
      "+-----------+------------------+\n",
      "only showing top 20 rows"
     ]
    }
   ],
   "source": [
    "#putting data in descending order\n",
    "genre_avg_ratings_grouped_desc = genre_avg_ratings_grouped.orderBy(desc(\"avg_rating\"))\n",
    "genre_avg_ratings_grouped_desc.show(20)"
   ]
  },
  {
   "cell_type": "code",
   "execution_count": 23,
   "id": "e2fd8a61",
   "metadata": {
    "scrolled": true
   },
   "outputs": [
    {
     "data": {
      "application/vnd.jupyter.widget-view+json": {
       "model_id": "bd88e0aacd24486592b618cc70dd1325",
       "version_major": 2,
       "version_minor": 0
      },
      "text/plain": [
       "VBox()"
      ]
     },
     "metadata": {},
     "output_type": "display_data"
    },
    {
     "data": {
      "application/vnd.jupyter.widget-view+json": {
       "model_id": "",
       "version_major": 2,
       "version_minor": 0
      },
      "text/plain": [
       "FloatProgress(value=0.0, bar_style='info', description='Progress:', layout=Layout(height='25px', width='50%'),…"
      ]
     },
     "metadata": {},
     "output_type": "display_data"
    },
    {
     "name": "stdout",
     "output_type": "stream",
     "text": [
      "Text(0, 0.5, 'Genre')"
     ]
    }
   ],
   "source": [
    "#Plotting bar chart\n",
    "genresx = genre_avg_ratings_grouped_desc.rdd.map(lambda x: x.genres).collect()\n",
    "avg_ratingsy = genre_avg_ratings_grouped_desc.rdd.map(lambda x: x.avg_rating).collect()\n",
    "plt.figure(figsize=(10, 6))\n",
    "plt.barh(genresx, avg_ratingsy, color='purple',label=\"Genres\")\n",
    "plt.xlim(5, 7.5)\n",
    "plt.gca().invert_yaxis()\n",
    "plt.legend()\n",
    "plt.legend(loc=\"lower right\")\n",
    "plt.title(\"Average Rating per Genre\")\n",
    "plt.xlabel(\"Average Rating\")\n",
    "plt.ylabel(\"Genre\")"
   ]
  },
  {
   "cell_type": "code",
   "execution_count": 24,
   "id": "110b2008",
   "metadata": {},
   "outputs": [
    {
     "data": {
      "application/vnd.jupyter.widget-view+json": {
       "model_id": "",
       "version_major": 2,
       "version_minor": 0
      },
      "text/plain": [
       "FloatProgress(value=0.0, bar_style='info', description='Progress:', layout=Layout(height='25px', width='50%'),…"
      ]
     },
     "metadata": {},
     "output_type": "display_data"
    },
    {
     "data": {
      "image/png": "[encoded data removed]",
      "text/plain": [
       "<IPython.core.display.Image object>"
      ]
     },
     "metadata": {},
     "output_type": "display_data"
    }
   ],
   "source": [
    "%matplot plt"
   ]
  },
  {
   "cell_type": "markdown",
   "id": "844a4d0f",
   "metadata": {},
   "source": [
    "# PART 3 - Analyzing Job Categories\n",
    "Total Unique Job Categories"
   ]
  },
  {
   "cell_type": "code",
   "execution_count": 25,
   "id": "f9e4970e",
   "metadata": {},
   "outputs": [
    {
     "data": {
      "application/vnd.jupyter.widget-view+json": {
       "model_id": "72542a92d5d2402f90c1d3f031902aec",
       "version_major": 2,
       "version_minor": 0
      },
      "text/plain": [
       "VBox()"
      ]
     },
     "metadata": {},
     "output_type": "display_data"
    },
    {
     "data": {
      "application/vnd.jupyter.widget-view+json": {
       "model_id": "",
       "version_major": 2,
       "version_minor": 0
      },
      "text/plain": [
       "FloatProgress(value=0.0, bar_style='info', description='Progress:', layout=Layout(height='25px', width='50%'),…"
      ]
     },
     "metadata": {},
     "output_type": "display_data"
    },
    {
     "name": "stdout",
     "output_type": "stream",
     "text": [
      "+---------+---------------+\n",
      "|   tconst|       category|\n",
      "+---------+---------------+\n",
      "|tt0000001|           self|\n",
      "|tt0000001|       director|\n",
      "|tt0000001|cinematographer|\n",
      "|tt0000002|       director|\n",
      "|tt0000002|       composer|\n",
      "+---------+---------------+\n",
      "only showing top 5 rows"
     ]
    }
   ],
   "source": [
    "#finding unique catagories and amount\n",
    "seperated_movie_actors = movie_actors.select(\"tconst\",\"category\")\n",
    "seperated_movie_actors.show(5)"
   ]
  },
  {
   "cell_type": "code",
   "execution_count": 26,
   "id": "057430a3",
   "metadata": {},
   "outputs": [
    {
     "data": {
      "application/vnd.jupyter.widget-view+json": {
       "model_id": "dc59d6defdd84431b715cdcbc2103a7a",
       "version_major": 2,
       "version_minor": 0
      },
      "text/plain": [
       "VBox()"
      ]
     },
     "metadata": {},
     "output_type": "display_data"
    },
    {
     "data": {
      "application/vnd.jupyter.widget-view+json": {
       "model_id": "",
       "version_major": 2,
       "version_minor": 0
      },
      "text/plain": [
       "FloatProgress(value=0.0, bar_style='info', description='Progress:', layout=Layout(height='25px', width='50%'),…"
      ]
     },
     "metadata": {},
     "output_type": "display_data"
    },
    {
     "name": "stdout",
     "output_type": "stream",
     "text": [
      "12\n",
      "+-------------------+\n",
      "|           category|\n",
      "+-------------------+\n",
      "|            actress|\n",
      "|           producer|\n",
      "|production_designer|\n",
      "|             writer|\n",
      "|              actor|\n",
      "|    cinematographer|\n",
      "|      archive_sound|\n",
      "|    archive_footage|\n",
      "|               self|\n",
      "|             editor|\n",
      "|           composer|\n",
      "|           director|\n",
      "+-------------------+"
     ]
    }
   ],
   "source": [
    "#distinct categories / count\n",
    "unique_movie_actors = seperated_movie_actors.select(\"category\").distinct()\n",
    "unique_movie_actors_count = seperated_movie_actors.select(\"category\").distinct().count()\n",
    "print(unique_movie_actors_count)\n",
    "unique_movie_actors.show(unique_movie_actors_count)\n"
   ]
  },
  {
   "cell_type": "markdown",
   "id": "92233850",
   "metadata": {},
   "source": [
    "# Top Job Categories"
   ]
  },
  {
   "cell_type": "code",
   "execution_count": 27,
   "id": "f0df6523",
   "metadata": {},
   "outputs": [
    {
     "data": {
      "application/vnd.jupyter.widget-view+json": {
       "model_id": "aa6c9dcaa5864d8083b13be7215e28ad",
       "version_major": 2,
       "version_minor": 0
      },
      "text/plain": [
       "VBox()"
      ]
     },
     "metadata": {},
     "output_type": "display_data"
    },
    {
     "data": {
      "application/vnd.jupyter.widget-view+json": {
       "model_id": "",
       "version_major": 2,
       "version_minor": 0
      },
      "text/plain": [
       "FloatProgress(value=0.0, bar_style='info', description='Progress:', layout=Layout(height='25px', width='50%'),…"
      ]
     },
     "metadata": {},
     "output_type": "display_data"
    },
    {
     "name": "stdout",
     "output_type": "stream",
     "text": [
      "+-------------------+-------+\n",
      "|           category|  count|\n",
      "+-------------------+-------+\n",
      "|            actress|6325097|\n",
      "|           producer|2197866|\n",
      "|production_designer| 285924|\n",
      "|             writer|4811596|\n",
      "|              actor|8493701|\n",
      "|    cinematographer|1300404|\n",
      "|      archive_sound|   2143|\n",
      "|    archive_footage| 209035|\n",
      "|               self|6153089|\n",
      "|             editor|1197669|\n",
      "|           composer|1313187|\n",
      "|           director|4179106|\n",
      "+-------------------+-------+"
     ]
    }
   ],
   "source": [
    "#counting amount of categories counted in data\n",
    "movie_actors_category_count = seperated_movie_actors.groupBy(\"category\").count()\n",
    "movie_actors_category_count.show()"
   ]
  },
  {
   "cell_type": "code",
   "execution_count": 28,
   "id": "a5de63d5",
   "metadata": {},
   "outputs": [
    {
     "data": {
      "application/vnd.jupyter.widget-view+json": {
       "model_id": "232c41b1500e4073b7156de60a98daa3",
       "version_major": 2,
       "version_minor": 0
      },
      "text/plain": [
       "VBox()"
      ]
     },
     "metadata": {},
     "output_type": "display_data"
    },
    {
     "data": {
      "application/vnd.jupyter.widget-view+json": {
       "model_id": "",
       "version_major": 2,
       "version_minor": 0
      },
      "text/plain": [
       "FloatProgress(value=0.0, bar_style='info', description='Progress:', layout=Layout(height='25px', width='50%'),…"
      ]
     },
     "metadata": {},
     "output_type": "display_data"
    },
    {
     "name": "stdout",
     "output_type": "stream",
     "text": [
      "+-------------------+-------+\n",
      "|           category|  count|\n",
      "+-------------------+-------+\n",
      "|              actor|8493701|\n",
      "|            actress|6325097|\n",
      "|               self|6153089|\n",
      "|             writer|4811596|\n",
      "|           director|4179106|\n",
      "|           producer|2197866|\n",
      "|           composer|1313187|\n",
      "|    cinematographer|1300404|\n",
      "|             editor|1197669|\n",
      "|production_designer| 285924|\n",
      "|    archive_footage| 209035|\n",
      "|      archive_sound|   2143|\n",
      "+-------------------+-------+"
     ]
    }
   ],
   "source": [
    "#making it in descending order\n",
    "movie_actors_category_count_desc = movie_actors_category_count.orderBy(desc(\"count\"))\n",
    "movie_actors_category_count_desc.show()"
   ]
  },
  {
   "cell_type": "code",
   "execution_count": 29,
   "id": "e8b86173",
   "metadata": {},
   "outputs": [
    {
     "data": {
      "application/vnd.jupyter.widget-view+json": {
       "model_id": "8894bbfbcfb8450f95389b9fffb9a61b",
       "version_major": 2,
       "version_minor": 0
      },
      "text/plain": [
       "VBox()"
      ]
     },
     "metadata": {},
     "output_type": "display_data"
    },
    {
     "data": {
      "application/vnd.jupyter.widget-view+json": {
       "model_id": "",
       "version_major": 2,
       "version_minor": 0
      },
      "text/plain": [
       "FloatProgress(value=0.0, bar_style='info', description='Progress:', layout=Layout(height='25px', width='50%'),…"
      ]
     },
     "metadata": {},
     "output_type": "display_data"
    }
   ],
   "source": [
    "#graphing Top Job Categories\n",
    "top_categoryx = movie_actors_category_count_desc.rdd.map(lambda x: x.category).take(5)\n",
    "top_county = movie_actors_category_count_desc.rdd.map(lambda x: x['count']).take(5)\n",
    "plt.figure(figsize=(10, 6))\n",
    "plt.bar(top_categoryx, top_county, color='orange', label=\"Count\", width=0.5) \n",
    "plt.ylim(bottom=3) \n",
    "plt.legend(loc=\"upper right\")\n",
    "plt.title(\"Top Job Categories\")\n",
    "plt.xlabel(\"Job Categories\")\n",
    "plt.ylabel(\"Count\")\n",
    "plt.show()"
   ]
  },
  {
   "cell_type": "code",
   "execution_count": 30,
   "id": "166d2302",
   "metadata": {},
   "outputs": [
    {
     "data": {
      "application/vnd.jupyter.widget-view+json": {
       "model_id": "",
       "version_major": 2,
       "version_minor": 0
      },
      "text/plain": [
       "FloatProgress(value=0.0, bar_style='info', description='Progress:', layout=Layout(height='25px', width='50%'),…"
      ]
     },
     "metadata": {},
     "output_type": "display_data"
    },
    {
     "data": {
      "image/png": "[encoded data removed]",
      "text/plain": [
       "<IPython.core.display.Image object>"
      ]
     },
     "metadata": {},
     "output_type": "display_data"
    }
   ],
   "source": [
    "%matplot plt"
   ]
  },
  {
   "cell_type": "markdown",
   "id": "f4ccfe45",
   "metadata": {},
   "source": [
    "# PART 4 - Answer to the following questions:\n",
    "1) Find all the movies acted by both Johnny Depp and Helena Bonham Carter"
   ]
  },
  {
   "cell_type": "code",
   "execution_count": 31,
   "id": "ab71f821",
   "metadata": {
    "scrolled": true
   },
   "outputs": [
    {
     "data": {
      "application/vnd.jupyter.widget-view+json": {
       "model_id": "8ff958fa08d54e9a87b3a87339816b99",
       "version_major": 2,
       "version_minor": 0
      },
      "text/plain": [
       "VBox()"
      ]
     },
     "metadata": {},
     "output_type": "display_data"
    },
    {
     "data": {
      "application/vnd.jupyter.widget-view+json": {
       "model_id": "",
       "version_major": 2,
       "version_minor": 0
      },
      "text/plain": [
       "FloatProgress(value=0.0, bar_style='info', description='Progress:', layout=Layout(height='25px', width='50%'),…"
      ]
     },
     "metadata": {},
     "output_type": "display_data"
    }
   ],
   "source": [
    "#joining  actors, genres, and movie_actors\n",
    "genres_movies_only = genres.filter(genres.titleType == \"movie\")\n",
    "movie_actors_filtered = movie_actors.filter((col(\"category\") == \"actor\") | (col(\"category\") == \"actress\"))\n",
    "combine_dfs = actors.join(movie_actors_filtered, on='nconst', how='inner')\n",
    "combine_dfs1 = combine_dfs.join(genres_movies_only, on='tconst', how='inner')\n",
    "combine_dfs_final = combine_dfs1.select(\"primaryName\", \"knownForTitles\", \"primaryTitle\", \"startYear\", \"endYear\", \"tconst\", \"nconst\")"
   ]
  },
  {
   "cell_type": "code",
   "execution_count": 32,
   "id": "558ee968",
   "metadata": {},
   "outputs": [
    {
     "data": {
      "application/vnd.jupyter.widget-view+json": {
       "model_id": "c5a491cc14b5467b96b0570351bbc9c4",
       "version_major": 2,
       "version_minor": 0
      },
      "text/plain": [
       "VBox()"
      ]
     },
     "metadata": {},
     "output_type": "display_data"
    },
    {
     "data": {
      "application/vnd.jupyter.widget-view+json": {
       "model_id": "",
       "version_major": 2,
       "version_minor": 0
      },
      "text/plain": [
       "FloatProgress(value=0.0, bar_style='info', description='Progress:', layout=Layout(height='25px', width='50%'),…"
      ]
     },
     "metadata": {},
     "output_type": "display_data"
    },
    {
     "name": "stdout",
     "output_type": "stream",
     "text": [
      "+----------------------------------------------+\n",
      "|primaryTitle                                  |\n",
      "+----------------------------------------------+\n",
      "|Corpse Bride                                  |\n",
      "|Charlie and the Chocolate Factory             |\n",
      "|Sweeney Todd: The Demon Barber of Fleet Street|\n",
      "|Alice in Wonderland                           |\n",
      "|Dark Shadows                                  |\n",
      "|Alice Through the Looking Glass               |\n",
      "+----------------------------------------------+"
     ]
    }
   ],
   "source": [
    "#finding Johnny Depp and Helena Bonham Carter movies\n",
    "johnny_depp_movies = combine_dfs_final.filter(combine_dfs_final.primaryName == \"Johnny Depp\")\n",
    "helena_bonham_carter_movies = combine_dfs_final.filter(combine_dfs_final.primaryName == \"Helena Bonham Carter\")\n",
    "\n",
    "johnny_depp_tc = [row.tconst for row in johnny_depp_movies.collect()]\n",
    "helena_bonham_carter_tc = [row.tconst for row in helena_bonham_carter_movies.collect()]\n",
    "\n",
    "common_tc = list(set(johnny_depp_tc).intersection(helena_bonham_carter_tc))\n",
    "\n",
    "common_movies = genres_movies_only.filter(genres_movies_only.tconst.isin(common_tc))\n",
    "\n",
    "common_movies.select(\"primaryTitle\").show(truncate=False)"
   ]
  },
  {
   "cell_type": "markdown",
   "id": "2dda0206",
   "metadata": {},
   "source": [
    "# 2) Find all the movies acted by Brad Pitt after 2010."
   ]
  },
  {
   "cell_type": "code",
   "execution_count": 33,
   "id": "e21e7b1a",
   "metadata": {
    "scrolled": true
   },
   "outputs": [
    {
     "data": {
      "application/vnd.jupyter.widget-view+json": {
       "model_id": "e81a5bb7e6c34a9ebd80743706c0c004",
       "version_major": 2,
       "version_minor": 0
      },
      "text/plain": [
       "VBox()"
      ]
     },
     "metadata": {},
     "output_type": "display_data"
    },
    {
     "data": {
      "application/vnd.jupyter.widget-view+json": {
       "model_id": "",
       "version_major": 2,
       "version_minor": 0
      },
      "text/plain": [
       "FloatProgress(value=0.0, bar_style='info', description='Progress:', layout=Layout(height='25px', width='50%'),…"
      ]
     },
     "metadata": {},
     "output_type": "display_data"
    },
    {
     "name": "stdout",
     "output_type": "stream",
     "text": [
      "+---------------------------------+---------+\n",
      "|primaryTitle                     |startYear|\n",
      "+---------------------------------+---------+\n",
      "|Babylon                          |2021     |\n",
      "|Ad Astra                         |2019     |\n",
      "|Once Upon a Time ... in Hollywood|2019     |\n",
      "|War Machine                      |2017     |\n",
      "|Allied                           |2016     |\n",
      "|By the Sea                       |2015     |\n",
      "|The Big Short                    |2015     |\n",
      "|Fury                             |2014     |\n",
      "|World War Z                      |2013     |\n",
      "|12 Years a Slave                 |2013     |\n",
      "|Killing Them Softly              |2012     |\n",
      "|Moneyball                        |2011     |\n",
      "|The Tree of Life                 |2011     |\n",
      "+---------------------------------+---------+"
     ]
    }
   ],
   "source": [
    "#Finding all the movies acted by Brad Pitt after 2010.\n",
    "combine_dfs_final = combine_dfs_final.withColumn(\"startYear\", combine_dfs_final[\"startYear\"].cast(IntegerType()))\n",
    "\n",
    "brad_pitt_movies = combine_dfs_final.filter((combine_dfs_final.primaryName == \"Brad Pitt\") &\n",
    "                                             (combine_dfs_final.startYear > 2010) &\n",
    "                                             col(\"startYear\").isNotNull())\n",
    "brad_pitt_movies_titles_years = brad_pitt_movies.select(\"primaryTitle\", \"startYear\")\n",
    "brad_pitt_movies_titles_years_sorted = brad_pitt_movies_titles_years.orderBy(desc(\"startYear\"))\n",
    "brad_pitt_movies_titles_years_sorted.show(truncate=False)"
   ]
  },
  {
   "cell_type": "markdown",
   "id": "6a7d869b",
   "metadata": {},
   "source": [
    "# What is the number of movies acted by Zendaya per year"
   ]
  },
  {
   "cell_type": "code",
   "execution_count": 34,
   "id": "ee3e40fd",
   "metadata": {},
   "outputs": [
    {
     "data": {
      "application/vnd.jupyter.widget-view+json": {
       "model_id": "99905f621d1b464ca9179983f186d9e4",
       "version_major": 2,
       "version_minor": 0
      },
      "text/plain": [
       "VBox()"
      ]
     },
     "metadata": {},
     "output_type": "display_data"
    },
    {
     "data": {
      "application/vnd.jupyter.widget-view+json": {
       "model_id": "",
       "version_major": 2,
       "version_minor": 0
      },
      "text/plain": [
       "FloatProgress(value=0.0, bar_style='info', description='Progress:', layout=Layout(height='25px', width='50%'),…"
      ]
     },
     "metadata": {},
     "output_type": "display_data"
    },
    {
     "name": "stdout",
     "output_type": "stream",
     "text": [
      "+---------+----------+\n",
      "|startYear|num_movies|\n",
      "+---------+----------+\n",
      "|     2017|         1|\n",
      "|     2018|         2|\n",
      "|     2020|         1|\n",
      "+---------+----------+"
     ]
    }
   ],
   "source": [
    "#Finding number of zendaya movies by year\n",
    "zendaya_movies = combine_dfs_final.filter((combine_dfs_final.primaryName == \"Zendaya\") & col(\"startYear\").isNotNull())\n",
    "zendaya_movies_by_year = zendaya_movies.groupBy(\"startYear\").agg(count(\"tconst\").alias(\"num_movies\"))\n",
    "zendaya_movies_by_year_sorted = zendaya_movies_by_year.orderBy(\"startYear\")\n",
    "zendaya_movies_by_year_sorted.show()"
   ]
  },
  {
   "cell_type": "markdown",
   "id": "e1b2e538",
   "metadata": {},
   "source": [
    "# 4) What are the movies by average rating greater than 9.7 and released in 2019?"
   ]
  },
  {
   "cell_type": "code",
   "execution_count": 35,
   "id": "ffdc81e2",
   "metadata": {},
   "outputs": [
    {
     "data": {
      "application/vnd.jupyter.widget-view+json": {
       "model_id": "10ae54133c0f4b608747c31091a2f5dd",
       "version_major": 2,
       "version_minor": 0
      },
      "text/plain": [
       "VBox()"
      ]
     },
     "metadata": {},
     "output_type": "display_data"
    },
    {
     "data": {
      "application/vnd.jupyter.widget-view+json": {
       "model_id": "",
       "version_major": 2,
       "version_minor": 0
      },
      "text/plain": [
       "FloatProgress(value=0.0, bar_style='info', description='Progress:', layout=Layout(height='25px', width='50%'),…"
      ]
     },
     "metadata": {},
     "output_type": "display_data"
    },
    {
     "name": "stdout",
     "output_type": "stream",
     "text": [
      "+-------------------------------------------------+-------------+\n",
      "|primaryTitle                                     |averageRating|\n",
      "+-------------------------------------------------+-------------+\n",
      "|A Grunt's Life                                   |10.0         |\n",
      "|Our Scripted Life                                |10.0         |\n",
      "|The Twilight Zone: A 60th Anniversary Celebration|10.0         |\n",
      "|The Butcher Baronet                              |10.0         |\n",
      "|Kirket                                           |10.0         |\n",
      "|A Medicine for the Mind                          |10.0         |\n",
      "|Love in Kilnerry                                 |10.0         |\n",
      "|L'Enfant Terrible                                |10.0         |\n",
      "|Bu Can Var Oldugu Sürece                         |10.0         |\n",
      "|Superhombre                                      |9.9          |\n",
      "|Puritan: All of Life to The Glory of God         |9.9          |\n",
      "|The Cardinal                                     |9.9          |\n",
      "|Randhawa                                         |9.8          |\n",
      "|Gini Helida Kathe                                |9.8          |\n",
      "|We Shall Not Die Now                             |9.8          |\n",
      "|Kamen Rider Zi-O: Over Quartzer                  |9.8          |\n",
      "|Square One                                       |9.8          |\n",
      "|Time and motion                                  |9.8          |\n",
      "|From Shock to Awe                                |9.8          |\n",
      "+-------------------------------------------------+-------------+"
     ]
    }
   ],
   "source": [
    "#putting movies rated > 9.7 in year 2019 in descending order\n",
    "movie_ratings = movie_ratings.withColumn(\"averageRating\", movie_ratings[\"averageRating\"].cast(FloatType()))\n",
    "genres_movies_only = genres_movies_only.withColumn(\"startYear\", genres_movies_only[\"startYear\"].cast(IntegerType()))\n",
    "high_rated_movies = movie_ratings.filter(movie_ratings.averageRating > 9.7)\n",
    "movies_2019 = genres_movies_only.filter(genres_movies_only.startYear == 2019)\n",
    "high_rated_movies_2019 = high_rated_movies.join(movies_2019, on='tconst', how='inner')\n",
    "high_rated_movies_2019_titles = high_rated_movies_2019.select(\"primaryTitle\", \"averageRating\")\n",
    "high_rated_movies_2019_titles_sorted = high_rated_movies_2019_titles.orderBy(desc(\"averageRating\"))\n",
    "high_rated_movies_2019_titles_sorted.show(truncate=False)\n"
   ]
  },
  {
   "cell_type": "markdown",
   "id": "d51bcfed",
   "metadata": {},
   "source": [
    "# Extra Credit - Analysis of your choice (3 pts)"
   ]
  },
  {
   "cell_type": "markdown",
   "id": "410d4d25",
   "metadata": {},
   "source": [
    "# What are the top 15 most common birth years for Actors who are alive currently, and how many currently alive actors were born in each of those years?"
   ]
  },
  {
   "cell_type": "code",
   "execution_count": 136,
   "id": "7fb2db9a",
   "metadata": {},
   "outputs": [
    {
     "data": {
      "application/vnd.jupyter.widget-view+json": {
       "model_id": "c476d7cd3e8945f0a69718d2da9c4c36",
       "version_major": 2,
       "version_minor": 0
      },
      "text/plain": [
       "VBox()"
      ]
     },
     "metadata": {},
     "output_type": "display_data"
    },
    {
     "data": {
      "application/vnd.jupyter.widget-view+json": {
       "model_id": "",
       "version_major": 2,
       "version_minor": 0
      },
      "text/plain": [
       "FloatProgress(value=0.0, bar_style='info', description='Progress:', layout=Layout(height='25px', width='50%'),…"
      ]
     },
     "metadata": {},
     "output_type": "display_data"
    },
    {
     "name": "stdout",
     "output_type": "stream",
     "text": [
      "+---------+-----+\n",
      "|birthYear|count|\n",
      "+---------+-----+\n",
      "|     1980| 2818|\n",
      "|     1979| 2722|\n",
      "|     1982| 2709|\n",
      "|     1978| 2661|\n",
      "|     1981| 2642|\n",
      "|     1984| 2569|\n",
      "|     1983| 2554|\n",
      "|     1985| 2542|\n",
      "|     1986| 2536|\n",
      "|     1976| 2504|\n",
      "|     1977| 2450|\n",
      "|     1987| 2356|\n",
      "|     1975| 2281|\n",
      "|     1974| 2258|\n",
      "|     1988| 2228|\n",
      "+---------+-----+"
     ]
    }
   ],
   "source": [
    "living_actors = actors.filter(col(\"primaryProfession\").isin(\"actor\", \"actress\") & (col(\"deathYear\") == \"\\\\N\") & (col(\"birthYear\") != \"\\\\N\"))\n",
    "birthyear_count = living_actors.groupBy(\"birthYear\").count()\n",
    "top_birth_years = birthyear_count.orderBy(col(\"count\").desc()).limit(15)\n",
    "top_birth_years.show()"
   ]
  },
  {
   "cell_type": "markdown",
   "id": "c76b10cd",
   "metadata": {},
   "source": [
    "# Pie Chart of top birth years of living actors"
   ]
  },
  {
   "cell_type": "code",
   "execution_count": 137,
   "id": "7e1fa8e0",
   "metadata": {},
   "outputs": [
    {
     "data": {
      "application/vnd.jupyter.widget-view+json": {
       "model_id": "785c09df85cd42a8ab4f022ad0c807c2",
       "version_major": 2,
       "version_minor": 0
      },
      "text/plain": [
       "VBox()"
      ]
     },
     "metadata": {},
     "output_type": "display_data"
    },
    {
     "data": {
      "application/vnd.jupyter.widget-view+json": {
       "model_id": "",
       "version_major": 2,
       "version_minor": 0
      },
      "text/plain": [
       "FloatProgress(value=0.0, bar_style='info', description='Progress:', layout=Layout(height='25px', width='50%'),…"
      ]
     },
     "metadata": {},
     "output_type": "display_data"
    }
   ],
   "source": [
    "data = top_birth_years.collect()\n",
    "birth_years = [row['birthYear'] for row in data]\n",
    "counts = [row['count'] for row in data]\n",
    "\n",
    "# Creating a pie chart\n",
    "fig, ax = plt.subplots()\n",
    "ax.pie(counts, labels=birth_years, autopct='%1.1f%%', startangle=90)\n",
    "\n",
    "ax.axis('equal')\n",
    "\n",
    "plt.title('Top 15 Birth Years of Living Actors')\n",
    "plt.show()"
   ]
  },
  {
   "cell_type": "code",
   "execution_count": 138,
   "id": "48018c87",
   "metadata": {},
   "outputs": [
    {
     "data": {
      "application/vnd.jupyter.widget-view+json": {
       "model_id": "",
       "version_major": 2,
       "version_minor": 0
      },
      "text/plain": [
       "FloatProgress(value=0.0, bar_style='info', description='Progress:', layout=Layout(height='25px', width='50%'),…"
      ]
     },
     "metadata": {},
     "output_type": "display_data"
    },
    {
     "data": {
      "image/png": "[encoded data removed]",
      "text/plain": [
       "<IPython.core.display.Image object>"
      ]
     },
     "metadata": {},
     "output_type": "display_data"
    }
   ],
   "source": [
    "%matplot plt"
   ]
  },
  {
   "cell_type": "markdown",
   "id": "85bcd94a",
   "metadata": {},
   "source": [
    "# Extra Credit - Answering a question of your choice (3 pts)"
   ]
  },
  {
   "cell_type": "markdown",
   "id": "a42ef12f",
   "metadata": {},
   "source": [
    "# Who are the Actors / Actresses with the most movies made on or after the year 2000 (excluding adult movies.) What is the average rating of the films they've feautred in? "
   ]
  },
  {
   "cell_type": "code",
   "execution_count": 132,
   "id": "cabc34fd",
   "metadata": {},
   "outputs": [
    {
     "data": {
      "application/vnd.jupyter.widget-view+json": {
       "model_id": "999969c34f6146ae88f498c03d122edf",
       "version_major": 2,
       "version_minor": 0
      },
      "text/plain": [
       "VBox()"
      ]
     },
     "metadata": {},
     "output_type": "display_data"
    },
    {
     "data": {
      "application/vnd.jupyter.widget-view+json": {
       "model_id": "",
       "version_major": 2,
       "version_minor": 0
      },
      "text/plain": [
       "FloatProgress(value=0.0, bar_style='info', description='Progress:', layout=Layout(height='25px', width='50%'),…"
      ]
     },
     "metadata": {},
     "output_type": "display_data"
    },
    {
     "name": "stdout",
     "output_type": "stream",
     "text": [
      "+--------------------+------------------+-----------+\n",
      "|         primaryName|        avg_rating|movie_count|\n",
      "+--------------------+------------------+-----------+\n",
      "|        Eric Roberts|  4.61864951339182|        311|\n",
      "|        Brahmanandam| 5.333333349695392|        306|\n",
      "|         Prakash Raj| 6.113907283505067|        302|\n",
      "|            Mohanlal| 5.420982139451163|        224|\n",
      "|           Mammootty| 5.543601884661127|        211|\n",
      "|                 Ali| 5.462200946785046|        209|\n",
      "|      Michael Madsen|  4.58557692857889|        208|\n",
      "|        Paulo Branco| 5.958937180790924|        207|\n",
      "|          Jason Blum| 5.788442209138343|        199|\n",
      "|   Rabiranjan Maitra| 6.468686869650176|        198|\n",
      "|        Akshay Kumar| 5.691919170244776|        198|\n",
      "|         Anupam Kher| 5.439086283524024|        197|\n",
      "|        Tom Sizemore|4.9819148829642765|        188|\n",
      "|Prithviraj Sukumaran| 6.106989242697275|        186|\n",
      "|         Danny Trejo|  4.96408837671438|        181|\n",
      "|    Amitabh Bachchan| 6.001111094156901|        180|\n",
      "|        Nicolas Cage| 5.846067403139693|        178|\n",
      "|           Tim Bevan| 6.771428565979004|        175|\n",
      "|              Dileep| 5.554022965760066|        174|\n",
      "|        James Franco| 5.891907519687807|        173|\n",
      "+--------------------+------------------+-----------+"
     ]
    }
   ],
   "source": [
    "actors_filtered = actors.filter(col(\"primaryProfession\").contains(\"actor\") | col(\"primaryProfession\").contains(\"actress\"))\n",
    "\n",
    "actor_movie_join = actors_filtered.join(movie_actors, \"nconst\")\n",
    "\n",
    "only_movies = genres.filter((genres.titleType == \"movie\") & (genres.startYear >= \"2000\") & (genres.isAdult == \"0\"))\n",
    "actor_movie_only_movies_join = actor_movie_join.join(only_movies, \"tconst\")\n",
    "actor_movie_rating_join = actor_movie_only_movies_join.join(movie_ratings, \"tconst\")\n",
    "actor_avg_rating = actor_movie_rating_join.groupBy(\"nconst\", \"primaryName\").agg(avg(col(\"averageRating\")).alias(\"avg_rating\"), count(\"tconst\").alias(\"movie_count\"))\n",
    "\n",
    "top_actors = actor_avg_rating.sort(col(\"movie_count\").desc(), col(\"avg_rating\").desc()).limit(20)\n",
    "top_actors.select(\"primaryName\",\"avg_rating\",\"movie_count\").show()"
   ]
  },
  {
   "cell_type": "code",
   "execution_count": null,
   "id": "392528da",
   "metadata": {},
   "outputs": [],
   "source": []
  },
  {
   "cell_type": "code",
   "execution_count": null,
   "id": "133c7619",
   "metadata": {},
   "outputs": [],
   "source": []
  }
 ],
 "metadata": {
  "kernelspec": {
   "display_name": "PySpark",
   "language": "",
   "name": "pysparkkernel"
  },
  "language_info": {
   "codemirror_mode": {
    "name": "python",
    "version": 2
   },
   "mimetype": "text/x-python",
   "name": "pyspark",
   "pygments_lexer": "python2"
  }
 },
 "nbformat": 4,
 "nbformat_minor": 5
}
